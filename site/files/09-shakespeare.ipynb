{
 "cells": [
  {
   "cell_type": "markdown",
   "id": "96c00b45-c571-4438-be9b-60f80e8be054",
   "metadata": {},
   "source": [
    "# Fie Upon Thee, Autocorrect!"
   ]
  },
  {
   "cell_type": "markdown",
   "id": "d54dee98-c213-4197-b2eb-8184fa70d7ea",
   "metadata": {},
   "source": [
    "<img src=\"img/shakespeare.jpg\" width=\"200\">"
   ]
  },
  {
   "cell_type": "markdown",
   "id": "eadd8904-0e5d-41bc-98b8-6d56c14eb7db",
   "metadata": {},
   "source": [
    "<br><br><br>"
   ]
  },
  {
   "cell_type": "markdown",
   "id": "8becce69-ae8e-466a-881a-e779deb34f59",
   "metadata": {},
   "source": [
    "## Recap of yesterday"
   ]
  },
  {
   "cell_type": "markdown",
   "id": "633fc46a-6ac8-465f-a977-1af24a866f58",
   "metadata": {},
   "source": []
  },
  {
   "cell_type": "markdown",
   "id": "a096ddee-ee95-4e34-8241-09d6912f701c",
   "metadata": {},
   "source": [
    "<br><br><br>"
   ]
  },
  {
   "cell_type": "markdown",
   "id": "046cc6b9-7f8f-4243-b018-5c6a34e81957",
   "metadata": {},
   "source": [
    "## Dataset: the complete works of Shakespeare"
   ]
  },
  {
   "cell_type": "code",
   "execution_count": 1,
   "id": "5d5d2d40-cce3-4b9c-abd6-654fe9648f31",
   "metadata": {},
   "outputs": [],
   "source": [
    "import numpy as np"
   ]
  },
  {
   "cell_type": "code",
   "execution_count": 2,
   "id": "1e692285-26fe-4e53-9cbd-95ea094627c9",
   "metadata": {},
   "outputs": [],
   "source": [
    "with open(\"data/shakespeare.txt\") as file:\n",
    "    corpus = file.read()"
   ]
  },
  {
   "cell_type": "code",
   "execution_count": 3,
   "id": "f2d2cd8d-2291-4550-b468-56bc01368edf",
   "metadata": {},
   "outputs": [
    {
     "data": {
      "text/plain": [
       "5367504"
      ]
     },
     "execution_count": 3,
     "metadata": {},
     "output_type": "execute_result"
    }
   ],
   "source": [
    "len(corpus)"
   ]
  },
  {
   "cell_type": "code",
   "execution_count": 4,
   "id": "41439cb7-f5f1-466c-9006-966543672fd1",
   "metadata": {},
   "outputs": [
    {
     "name": "stdout",
     "output_type": "stream",
     "text": [
      "ook up that fire,\n",
      "Which many legions of true hearts had warmed,\n",
      "And so the general of hot desire,\n",
      "Was sleeping by a virgin hand disarmed.\n",
      "This brand she quenched in a cool well by,\n",
      "Which from Love’s fire took heat perpetual,\n",
      "Growing a bath and healthful remedy,\n",
      "For men diseased; but I, my mistress’ thrall,\n",
      "  Came there for cure and this by that I prove,\n",
      "  Love’s fire heats water, water cools not love.\n",
      "\n",
      "THE END\n",
      "\n",
      "ALL’S WELL THAT ENDS WELL\n",
      "\n",
      "Contents\n",
      "\n",
      "ACT I\n",
      "Scene I. Rossillon. A room in the Countess’s palace.\n",
      "Scene II. Paris. A room in the King’s palace.\n",
      "Scene III. Rossillon. A Room in the Palace.\n",
      "\n",
      "ACT II\n",
      "Scene I. Paris. A room in the King’s palace.\n",
      "Scene II. Rossillon. A room in the Countess’s palace.\n",
      "Scene III. Paris. The King’s palace.\n",
      "Scene IV. Paris. The King’s palace.\n",
      "Scene V. Another room in the same.\n",
      "\n",
      "ACT III\n",
      "Scene I. Florence. A room in the Duke’s palace.\n",
      "Scene II. Rossillon. A room in the Countess’s palace.\n",
      "Scene III. Florence. Before the Duke’s palace.\n",
      "Scene IV. Rossillon. A roo\n"
     ]
    }
   ],
   "source": [
    "print(corpus[100000:101000])"
   ]
  },
  {
   "cell_type": "code",
   "execution_count": 5,
   "id": "1bf66152-7640-416e-a439-cdcb68dc4bd8",
   "metadata": {},
   "outputs": [
    {
     "data": {
      "text/plain": [
       "array([ 10,  32,  33,  35,  36,  37,  38,  40,  41,  42,  44,  45,  46,\n",
       "        47,  48,  49,  50,  51,  52,  53,  54,  55,  56,  57,  58,  59,\n",
       "        63,  65,  66,  67,  68,  69,  70,  71,  72,  73,  74,  75,  76,\n",
       "        77,  78,  79,  80,  81,  82,  83,  84,  85,  86,  87,  88,  89,\n",
       "        90,  91,  93,  97,  98,  99, 100, 101, 102, 103, 104, 105, 106,\n",
       "       107, 108, 109, 110, 111, 112, 113, 114, 115, 116, 117, 118, 119,\n",
       "       120, 121, 122, 128, 132, 134, 135, 137, 147, 148, 152, 153, 156,\n",
       "       157, 160, 162, 166, 167, 168, 169, 170, 171, 174, 187, 191, 195,\n",
       "       197, 226, 239], dtype=uint8)"
      ]
     },
     "execution_count": 5,
     "metadata": {},
     "output_type": "execute_result"
    }
   ],
   "source": [
    "unique_characters = np.unique(np.frombuffer(corpus.encode(), np.uint8).reshape(-1, 1))\n",
    "unique_characters"
   ]
  },
  {
   "cell_type": "code",
   "execution_count": 6,
   "id": "7c163efc-92c8-42ae-a49b-3d32165ce02e",
   "metadata": {},
   "outputs": [
    {
     "data": {
      "text/plain": [
       "array([b'\\n', b' ', b'!', b'#', b'$', b'%', b'&', b'(', b')', b'*', b',',\n",
       "       b'-', b'.', b'/', b'0', b'1', b'2', b'3', b'4', b'5', b'6', b'7',\n",
       "       b'8', b'9', b':', b';', b'?', b'A', b'B', b'C', b'D', b'E', b'F',\n",
       "       b'G', b'H', b'I', b'J', b'K', b'L', b'M', b'N', b'O', b'P', b'Q',\n",
       "       b'R', b'S', b'T', b'U', b'V', b'W', b'X', b'Y', b'Z', b'[', b']',\n",
       "       b'a', b'b', b'c', b'd', b'e', b'f', b'g', b'h', b'i', b'j', b'k',\n",
       "       b'l', b'm', b'n', b'o', b'p', b'q', b'r', b's', b't', b'u', b'v',\n",
       "       b'w', b'x', b'y', b'z', b'\\x80', b'\\x84', b'\\x86', b'\\x87',\n",
       "       b'\\x89', b'\\x93', b'\\x94', b'\\x98', b'\\x99', b'\\x9c', b'\\x9d',\n",
       "       b'\\xa0', b'\\xa2', b'\\xa6', b'\\xa7', b'\\xa8', b'\\xa9', b'\\xaa',\n",
       "       b'\\xab', b'\\xae', b'\\xbb', b'\\xbf', b'\\xc3', b'\\xc5', b'\\xe2',\n",
       "       b'\\xef'], dtype='|S1')"
      ]
     },
     "execution_count": 6,
     "metadata": {},
     "output_type": "execute_result"
    }
   ],
   "source": [
    "unique_characters.view(\"S1\")"
   ]
  },
  {
   "cell_type": "code",
   "execution_count": 7,
   "id": "3afc56a2-6701-48da-b7f5-a216e4fdf0c7",
   "metadata": {},
   "outputs": [
    {
     "data": {
      "text/plain": [
       "81"
      ]
     },
     "execution_count": 7,
     "metadata": {},
     "output_type": "execute_result"
    }
   ],
   "source": [
    "np.count_nonzero(unique_characters <= ord(\"z\"))"
   ]
  }
 ],
 "metadata": {
  "kernelspec": {
   "display_name": "Python 3 (ipykernel)",
   "language": "python",
   "name": "python3"
  },
  "language_info": {
   "codemirror_mode": {
    "name": "ipython",
    "version": 3
   },
   "file_extension": ".py",
   "mimetype": "text/x-python",
   "name": "python",
   "nbconvert_exporter": "python",
   "pygments_lexer": "ipython3",
   "version": "3.10.14"
  }
 },
 "nbformat": 4,
 "nbformat_minor": 5
}
