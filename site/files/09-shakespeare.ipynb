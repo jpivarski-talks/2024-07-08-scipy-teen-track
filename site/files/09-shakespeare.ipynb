{
 "cells": [
  {
   "cell_type": "markdown",
   "id": "96c00b45-c571-4438-be9b-60f80e8be054",
   "metadata": {},
   "source": [
    "# Fie Upon Thee, Autocorrect!"
   ]
  },
  {
   "cell_type": "markdown",
   "id": "d54dee98-c213-4197-b2eb-8184fa70d7ea",
   "metadata": {},
   "source": [
    "<img src=\"img/shakespeare.jpg\" width=\"200\">"
   ]
  },
  {
   "cell_type": "markdown",
   "id": "eadd8904-0e5d-41bc-98b8-6d56c14eb7db",
   "metadata": {},
   "source": [
    "<br><br><br>"
   ]
  },
  {
   "cell_type": "markdown",
   "id": "8becce69-ae8e-466a-881a-e779deb34f59",
   "metadata": {},
   "source": [
    "## Recap of yesterday"
   ]
  },
  {
   "cell_type": "markdown",
   "id": "633fc46a-6ac8-465f-a977-1af24a866f58",
   "metadata": {},
   "source": []
  },
  {
   "cell_type": "markdown",
   "id": "a096ddee-ee95-4e34-8241-09d6912f701c",
   "metadata": {},
   "source": [
    "<br><br><br>"
   ]
  },
  {
   "cell_type": "markdown",
   "id": "046cc6b9-7f8f-4243-b018-5c6a34e81957",
   "metadata": {},
   "source": [
    "## Dataset: the complete works of Shakespeare"
   ]
  },
  {
   "cell_type": "code",
   "execution_count": 1,
   "id": "5d5d2d40-cce3-4b9c-abd6-654fe9648f31",
   "metadata": {},
   "outputs": [],
   "source": [
    "import numpy as np"
   ]
  },
  {
   "cell_type": "code",
   "execution_count": 2,
   "id": "1e692285-26fe-4e53-9cbd-95ea094627c9",
   "metadata": {},
   "outputs": [],
   "source": [
    "with open(\"data/shakespeare.txt\") as file:\n",
    "    corpus = file.read()"
   ]
  },
  {
   "cell_type": "code",
   "execution_count": 3,
   "id": "f2d2cd8d-2291-4550-b468-56bc01368edf",
   "metadata": {},
   "outputs": [
    {
     "data": {
      "text/plain": [
       "5367504"
      ]
     },
     "execution_count": 3,
     "metadata": {},
     "output_type": "execute_result"
    }
   ],
   "source": [
    "len(corpus)"
   ]
  },
  {
   "cell_type": "code",
   "execution_count": 4,
   "id": "41439cb7-f5f1-466c-9006-966543672fd1",
   "metadata": {},
   "outputs": [
    {
     "name": "stdout",
     "output_type": "stream",
     "text": [
      "ook up that fire,\n",
      "Which many legions of true hearts had warmed,\n",
      "And so the general of hot desire,\n",
      "Was sleeping by a virgin hand disarmed.\n",
      "This brand she quenched in a cool well by,\n",
      "Which from Love’s fire took heat perpetual,\n",
      "Growing a bath and healthful remedy,\n",
      "For men diseased; but I, my mistress’ thrall,\n",
      "  Came there for cure and this by that I prove,\n",
      "  Love’s fire heats water, water cools not love.\n",
      "\n",
      "THE END\n",
      "\n",
      "ALL’S WELL THAT ENDS WELL\n",
      "\n",
      "Contents\n",
      "\n",
      "ACT I\n",
      "Scene I. Rossillon. A room in the Countess’s palace.\n",
      "Scene II. Paris. A room in the King’s palace.\n",
      "Scene III. Rossillon. A Room in the Palace.\n",
      "\n",
      "ACT II\n",
      "Scene I. Paris. A room in the King’s palace.\n",
      "Scene II. Rossillon. A room in the Countess’s palace.\n",
      "Scene III. Paris. The King’s palace.\n",
      "Scene IV. Paris. The King’s palace.\n",
      "Scene V. Another room in the same.\n",
      "\n",
      "ACT III\n",
      "Scene I. Florence. A room in the Duke’s palace.\n",
      "Scene II. Rossillon. A room in the Countess’s palace.\n",
      "Scene III. Florence. Before the Duke’s palace.\n",
      "Scene IV. Rossillon. A roo\n"
     ]
    }
   ],
   "source": [
    "print(corpus[100000:101000])"
   ]
  },
  {
   "cell_type": "code",
   "execution_count": 5,
   "id": "1bf66152-7640-416e-a439-cdcb68dc4bd8",
   "metadata": {},
   "outputs": [
    {
     "data": {
      "text/plain": [
       "array([ 10,  32,  33,  35,  36,  37,  38,  40,  41,  42,  44,  45,  46,\n",
       "        47,  48,  49,  50,  51,  52,  53,  54,  55,  56,  57,  58,  59,\n",
       "        63,  65,  66,  67,  68,  69,  70,  71,  72,  73,  74,  75,  76,\n",
       "        77,  78,  79,  80,  81,  82,  83,  84,  85,  86,  87,  88,  89,\n",
       "        90,  91,  93,  97,  98,  99, 100, 101, 102, 103, 104, 105, 106,\n",
       "       107, 108, 109, 110, 111, 112, 113, 114, 115, 116, 117, 118, 119,\n",
       "       120, 121, 122, 128, 132, 134, 135, 137, 147, 148, 152, 153, 156,\n",
       "       157, 160, 162, 166, 167, 168, 169, 170, 171, 174, 187, 191, 195,\n",
       "       197, 226, 239], dtype=uint8)"
      ]
     },
     "execution_count": 5,
     "metadata": {},
     "output_type": "execute_result"
    }
   ],
   "source": [
    "unique_characters = np.unique(np.frombuffer(corpus.encode(), np.uint8).reshape(-1, 1))\n",
    "unique_characters"
   ]
  },
  {
   "cell_type": "code",
   "execution_count": 6,
   "id": "7c163efc-92c8-42ae-a49b-3d32165ce02e",
   "metadata": {},
   "outputs": [
    {
     "data": {
      "text/plain": [
       "array([b'\\n', b' ', b'!', b'#', b'$', b'%', b'&', b'(', b')', b'*', b',',\n",
       "       b'-', b'.', b'/', b'0', b'1', b'2', b'3', b'4', b'5', b'6', b'7',\n",
       "       b'8', b'9', b':', b';', b'?', b'A', b'B', b'C', b'D', b'E', b'F',\n",
       "       b'G', b'H', b'I', b'J', b'K', b'L', b'M', b'N', b'O', b'P', b'Q',\n",
       "       b'R', b'S', b'T', b'U', b'V', b'W', b'X', b'Y', b'Z', b'[', b']',\n",
       "       b'a', b'b', b'c', b'd', b'e', b'f', b'g', b'h', b'i', b'j', b'k',\n",
       "       b'l', b'm', b'n', b'o', b'p', b'q', b'r', b's', b't', b'u', b'v',\n",
       "       b'w', b'x', b'y', b'z', b'\\x80', b'\\x84', b'\\x86', b'\\x87',\n",
       "       b'\\x89', b'\\x93', b'\\x94', b'\\x98', b'\\x99', b'\\x9c', b'\\x9d',\n",
       "       b'\\xa0', b'\\xa2', b'\\xa6', b'\\xa7', b'\\xa8', b'\\xa9', b'\\xaa',\n",
       "       b'\\xab', b'\\xae', b'\\xbb', b'\\xbf', b'\\xc3', b'\\xc5', b'\\xe2',\n",
       "       b'\\xef'], dtype='|S1')"
      ]
     },
     "execution_count": 6,
     "metadata": {},
     "output_type": "execute_result"
    }
   ],
   "source": [
    "unique_characters.view(\"S1\")"
   ]
  },
  {
   "cell_type": "code",
   "execution_count": 7,
   "id": "3afc56a2-6701-48da-b7f5-a216e4fdf0c7",
   "metadata": {},
   "outputs": [
    {
     "data": {
      "text/plain": [
       "81"
      ]
     },
     "execution_count": 7,
     "metadata": {},
     "output_type": "execute_result"
    }
   ],
   "source": [
    "np.count_nonzero(unique_characters <= ord(\"z\"))"
   ]
  },
  {
   "cell_type": "markdown",
   "id": "21763a82-c049-4eea-8434-d28d75433968",
   "metadata": {},
   "source": [
    "<br><br><br>"
   ]
  },
  {
   "cell_type": "markdown",
   "id": "620af14d-ade9-4a3b-9bee-b0fa067aea91",
   "metadata": {},
   "source": [
    "## In progress..."
   ]
  },
  {
   "cell_type": "code",
   "execution_count": 419,
   "id": "45d35f3b-95f1-4110-ad1d-17ee0daafac4",
   "metadata": {},
   "outputs": [],
   "source": [
    "import re"
   ]
  },
  {
   "cell_type": "code",
   "execution_count": 448,
   "id": "d3de6b15-9700-4609-a06f-a37adf2f8ead",
   "metadata": {},
   "outputs": [],
   "source": [
    "words = set()\n",
    "for match in re.finditer(r\"\\b[A-Za-z]{1,10}\\b\", corpus):\n",
    "    words.add(match.group(0).upper())"
   ]
  },
  {
   "cell_type": "code",
   "execution_count": 585,
   "id": "2048ec88-f595-425f-bcae-32f529b25e56",
   "metadata": {},
   "outputs": [],
   "source": [
    "def word_to_vector(word):\n",
    "    vector = np.zeros((10, 27))\n",
    "    for j, letter in enumerate(word):\n",
    "        vector[j, ord(letter) - ord(\"A\") + 1] = 1\n",
    "    for j2 in range(j + 1, 10):\n",
    "        vector[j2, 0] = 1\n",
    "    return vector"
   ]
  },
  {
   "cell_type": "code",
   "execution_count": 587,
   "id": "42e3b419-fe07-4261-ad61-6459acf81dd4",
   "metadata": {},
   "outputs": [],
   "source": [
    "vectors = np.zeros((len(words), 10, 27))\n",
    "for i, word in enumerate(words):\n",
    "    vectors[i] = word_to_vector(word)"
   ]
  },
  {
   "cell_type": "code",
   "execution_count": 588,
   "id": "d2e32475-0de0-4c56-a570-788a64f10d74",
   "metadata": {},
   "outputs": [],
   "source": [
    "def vector_to_word(vector):\n",
    "    return (np.argmax(vector, axis=1) + ord(\"A\") - 1).astype(np.uint8).tobytes().decode().rstrip(\"@\")"
   ]
  },
  {
   "cell_type": "code",
   "execution_count": 589,
   "id": "710c6424-9a89-4d03-b55f-89e9139b09eb",
   "metadata": {},
   "outputs": [
    {
     "data": {
      "text/plain": [
       "'GRASS'"
      ]
     },
     "execution_count": 589,
     "metadata": {},
     "output_type": "execute_result"
    }
   ],
   "source": [
    "vector_to_word(vectors[7])"
   ]
  },
  {
   "cell_type": "code",
   "execution_count": 590,
   "id": "aa911ad2-0f62-4486-8d6b-8c8347f49eeb",
   "metadata": {},
   "outputs": [
    {
     "data": {
      "text/plain": [
       "(22803, 10, 27)"
      ]
     },
     "execution_count": 590,
     "metadata": {},
     "output_type": "execute_result"
    }
   ],
   "source": [
    "vectors.shape"
   ]
  },
  {
   "cell_type": "code",
   "execution_count": 748,
   "id": "872aacbb-4139-4235-8e94-d81b9dbbe864",
   "metadata": {},
   "outputs": [],
   "source": [
    "neural_network = sklearn.neural_network.MLPRegressor(hidden_layer_sizes=(230, 180, 120, 80, 50, 80, 120, 180, 230))"
   ]
  },
  {
   "cell_type": "code",
   "execution_count": 749,
   "id": "4f37d9c8-94cf-4c65-b53e-82f692483ca7",
   "metadata": {},
   "outputs": [
    {
     "data": {
      "text/html": [
       "<style>#sk-container-id-195 {\n",
       "  /* Definition of color scheme common for light and dark mode */\n",
       "  --sklearn-color-text: black;\n",
       "  --sklearn-color-line: gray;\n",
       "  /* Definition of color scheme for unfitted estimators */\n",
       "  --sklearn-color-unfitted-level-0: #fff5e6;\n",
       "  --sklearn-color-unfitted-level-1: #f6e4d2;\n",
       "  --sklearn-color-unfitted-level-2: #ffe0b3;\n",
       "  --sklearn-color-unfitted-level-3: chocolate;\n",
       "  /* Definition of color scheme for fitted estimators */\n",
       "  --sklearn-color-fitted-level-0: #f0f8ff;\n",
       "  --sklearn-color-fitted-level-1: #d4ebff;\n",
       "  --sklearn-color-fitted-level-2: #b3dbfd;\n",
       "  --sklearn-color-fitted-level-3: cornflowerblue;\n",
       "\n",
       "  /* Specific color for light theme */\n",
       "  --sklearn-color-text-on-default-background: var(--sg-text-color, var(--theme-code-foreground, var(--jp-content-font-color1, black)));\n",
       "  --sklearn-color-background: var(--sg-background-color, var(--theme-background, var(--jp-layout-color0, white)));\n",
       "  --sklearn-color-border-box: var(--sg-text-color, var(--theme-code-foreground, var(--jp-content-font-color1, black)));\n",
       "  --sklearn-color-icon: #696969;\n",
       "\n",
       "  @media (prefers-color-scheme: dark) {\n",
       "    /* Redefinition of color scheme for dark theme */\n",
       "    --sklearn-color-text-on-default-background: var(--sg-text-color, var(--theme-code-foreground, var(--jp-content-font-color1, white)));\n",
       "    --sklearn-color-background: var(--sg-background-color, var(--theme-background, var(--jp-layout-color0, #111)));\n",
       "    --sklearn-color-border-box: var(--sg-text-color, var(--theme-code-foreground, var(--jp-content-font-color1, white)));\n",
       "    --sklearn-color-icon: #878787;\n",
       "  }\n",
       "}\n",
       "\n",
       "#sk-container-id-195 {\n",
       "  color: var(--sklearn-color-text);\n",
       "}\n",
       "\n",
       "#sk-container-id-195 pre {\n",
       "  padding: 0;\n",
       "}\n",
       "\n",
       "#sk-container-id-195 input.sk-hidden--visually {\n",
       "  border: 0;\n",
       "  clip: rect(1px 1px 1px 1px);\n",
       "  clip: rect(1px, 1px, 1px, 1px);\n",
       "  height: 1px;\n",
       "  margin: -1px;\n",
       "  overflow: hidden;\n",
       "  padding: 0;\n",
       "  position: absolute;\n",
       "  width: 1px;\n",
       "}\n",
       "\n",
       "#sk-container-id-195 div.sk-dashed-wrapped {\n",
       "  border: 1px dashed var(--sklearn-color-line);\n",
       "  margin: 0 0.4em 0.5em 0.4em;\n",
       "  box-sizing: border-box;\n",
       "  padding-bottom: 0.4em;\n",
       "  background-color: var(--sklearn-color-background);\n",
       "}\n",
       "\n",
       "#sk-container-id-195 div.sk-container {\n",
       "  /* jupyter's `normalize.less` sets `[hidden] { display: none; }`\n",
       "     but bootstrap.min.css set `[hidden] { display: none !important; }`\n",
       "     so we also need the `!important` here to be able to override the\n",
       "     default hidden behavior on the sphinx rendered scikit-learn.org.\n",
       "     See: https://github.com/scikit-learn/scikit-learn/issues/21755 */\n",
       "  display: inline-block !important;\n",
       "  position: relative;\n",
       "}\n",
       "\n",
       "#sk-container-id-195 div.sk-text-repr-fallback {\n",
       "  display: none;\n",
       "}\n",
       "\n",
       "div.sk-parallel-item,\n",
       "div.sk-serial,\n",
       "div.sk-item {\n",
       "  /* draw centered vertical line to link estimators */\n",
       "  background-image: linear-gradient(var(--sklearn-color-text-on-default-background), var(--sklearn-color-text-on-default-background));\n",
       "  background-size: 2px 100%;\n",
       "  background-repeat: no-repeat;\n",
       "  background-position: center center;\n",
       "}\n",
       "\n",
       "/* Parallel-specific style estimator block */\n",
       "\n",
       "#sk-container-id-195 div.sk-parallel-item::after {\n",
       "  content: \"\";\n",
       "  width: 100%;\n",
       "  border-bottom: 2px solid var(--sklearn-color-text-on-default-background);\n",
       "  flex-grow: 1;\n",
       "}\n",
       "\n",
       "#sk-container-id-195 div.sk-parallel {\n",
       "  display: flex;\n",
       "  align-items: stretch;\n",
       "  justify-content: center;\n",
       "  background-color: var(--sklearn-color-background);\n",
       "  position: relative;\n",
       "}\n",
       "\n",
       "#sk-container-id-195 div.sk-parallel-item {\n",
       "  display: flex;\n",
       "  flex-direction: column;\n",
       "}\n",
       "\n",
       "#sk-container-id-195 div.sk-parallel-item:first-child::after {\n",
       "  align-self: flex-end;\n",
       "  width: 50%;\n",
       "}\n",
       "\n",
       "#sk-container-id-195 div.sk-parallel-item:last-child::after {\n",
       "  align-self: flex-start;\n",
       "  width: 50%;\n",
       "}\n",
       "\n",
       "#sk-container-id-195 div.sk-parallel-item:only-child::after {\n",
       "  width: 0;\n",
       "}\n",
       "\n",
       "/* Serial-specific style estimator block */\n",
       "\n",
       "#sk-container-id-195 div.sk-serial {\n",
       "  display: flex;\n",
       "  flex-direction: column;\n",
       "  align-items: center;\n",
       "  background-color: var(--sklearn-color-background);\n",
       "  padding-right: 1em;\n",
       "  padding-left: 1em;\n",
       "}\n",
       "\n",
       "\n",
       "/* Toggleable style: style used for estimator/Pipeline/ColumnTransformer box that is\n",
       "clickable and can be expanded/collapsed.\n",
       "- Pipeline and ColumnTransformer use this feature and define the default style\n",
       "- Estimators will overwrite some part of the style using the `sk-estimator` class\n",
       "*/\n",
       "\n",
       "/* Pipeline and ColumnTransformer style (default) */\n",
       "\n",
       "#sk-container-id-195 div.sk-toggleable {\n",
       "  /* Default theme specific background. It is overwritten whether we have a\n",
       "  specific estimator or a Pipeline/ColumnTransformer */\n",
       "  background-color: var(--sklearn-color-background);\n",
       "}\n",
       "\n",
       "/* Toggleable label */\n",
       "#sk-container-id-195 label.sk-toggleable__label {\n",
       "  cursor: pointer;\n",
       "  display: block;\n",
       "  width: 100%;\n",
       "  margin-bottom: 0;\n",
       "  padding: 0.5em;\n",
       "  box-sizing: border-box;\n",
       "  text-align: center;\n",
       "}\n",
       "\n",
       "#sk-container-id-195 label.sk-toggleable__label-arrow:before {\n",
       "  /* Arrow on the left of the label */\n",
       "  content: \"▸\";\n",
       "  float: left;\n",
       "  margin-right: 0.25em;\n",
       "  color: var(--sklearn-color-icon);\n",
       "}\n",
       "\n",
       "#sk-container-id-195 label.sk-toggleable__label-arrow:hover:before {\n",
       "  color: var(--sklearn-color-text);\n",
       "}\n",
       "\n",
       "/* Toggleable content - dropdown */\n",
       "\n",
       "#sk-container-id-195 div.sk-toggleable__content {\n",
       "  max-height: 0;\n",
       "  max-width: 0;\n",
       "  overflow: hidden;\n",
       "  text-align: left;\n",
       "  /* unfitted */\n",
       "  background-color: var(--sklearn-color-unfitted-level-0);\n",
       "}\n",
       "\n",
       "#sk-container-id-195 div.sk-toggleable__content.fitted {\n",
       "  /* fitted */\n",
       "  background-color: var(--sklearn-color-fitted-level-0);\n",
       "}\n",
       "\n",
       "#sk-container-id-195 div.sk-toggleable__content pre {\n",
       "  margin: 0.2em;\n",
       "  border-radius: 0.25em;\n",
       "  color: var(--sklearn-color-text);\n",
       "  /* unfitted */\n",
       "  background-color: var(--sklearn-color-unfitted-level-0);\n",
       "}\n",
       "\n",
       "#sk-container-id-195 div.sk-toggleable__content.fitted pre {\n",
       "  /* unfitted */\n",
       "  background-color: var(--sklearn-color-fitted-level-0);\n",
       "}\n",
       "\n",
       "#sk-container-id-195 input.sk-toggleable__control:checked~div.sk-toggleable__content {\n",
       "  /* Expand drop-down */\n",
       "  max-height: 200px;\n",
       "  max-width: 100%;\n",
       "  overflow: auto;\n",
       "}\n",
       "\n",
       "#sk-container-id-195 input.sk-toggleable__control:checked~label.sk-toggleable__label-arrow:before {\n",
       "  content: \"▾\";\n",
       "}\n",
       "\n",
       "/* Pipeline/ColumnTransformer-specific style */\n",
       "\n",
       "#sk-container-id-195 div.sk-label input.sk-toggleable__control:checked~label.sk-toggleable__label {\n",
       "  color: var(--sklearn-color-text);\n",
       "  background-color: var(--sklearn-color-unfitted-level-2);\n",
       "}\n",
       "\n",
       "#sk-container-id-195 div.sk-label.fitted input.sk-toggleable__control:checked~label.sk-toggleable__label {\n",
       "  background-color: var(--sklearn-color-fitted-level-2);\n",
       "}\n",
       "\n",
       "/* Estimator-specific style */\n",
       "\n",
       "/* Colorize estimator box */\n",
       "#sk-container-id-195 div.sk-estimator input.sk-toggleable__control:checked~label.sk-toggleable__label {\n",
       "  /* unfitted */\n",
       "  background-color: var(--sklearn-color-unfitted-level-2);\n",
       "}\n",
       "\n",
       "#sk-container-id-195 div.sk-estimator.fitted input.sk-toggleable__control:checked~label.sk-toggleable__label {\n",
       "  /* fitted */\n",
       "  background-color: var(--sklearn-color-fitted-level-2);\n",
       "}\n",
       "\n",
       "#sk-container-id-195 div.sk-label label.sk-toggleable__label,\n",
       "#sk-container-id-195 div.sk-label label {\n",
       "  /* The background is the default theme color */\n",
       "  color: var(--sklearn-color-text-on-default-background);\n",
       "}\n",
       "\n",
       "/* On hover, darken the color of the background */\n",
       "#sk-container-id-195 div.sk-label:hover label.sk-toggleable__label {\n",
       "  color: var(--sklearn-color-text);\n",
       "  background-color: var(--sklearn-color-unfitted-level-2);\n",
       "}\n",
       "\n",
       "/* Label box, darken color on hover, fitted */\n",
       "#sk-container-id-195 div.sk-label.fitted:hover label.sk-toggleable__label.fitted {\n",
       "  color: var(--sklearn-color-text);\n",
       "  background-color: var(--sklearn-color-fitted-level-2);\n",
       "}\n",
       "\n",
       "/* Estimator label */\n",
       "\n",
       "#sk-container-id-195 div.sk-label label {\n",
       "  font-family: monospace;\n",
       "  font-weight: bold;\n",
       "  display: inline-block;\n",
       "  line-height: 1.2em;\n",
       "}\n",
       "\n",
       "#sk-container-id-195 div.sk-label-container {\n",
       "  text-align: center;\n",
       "}\n",
       "\n",
       "/* Estimator-specific */\n",
       "#sk-container-id-195 div.sk-estimator {\n",
       "  font-family: monospace;\n",
       "  border: 1px dotted var(--sklearn-color-border-box);\n",
       "  border-radius: 0.25em;\n",
       "  box-sizing: border-box;\n",
       "  margin-bottom: 0.5em;\n",
       "  /* unfitted */\n",
       "  background-color: var(--sklearn-color-unfitted-level-0);\n",
       "}\n",
       "\n",
       "#sk-container-id-195 div.sk-estimator.fitted {\n",
       "  /* fitted */\n",
       "  background-color: var(--sklearn-color-fitted-level-0);\n",
       "}\n",
       "\n",
       "/* on hover */\n",
       "#sk-container-id-195 div.sk-estimator:hover {\n",
       "  /* unfitted */\n",
       "  background-color: var(--sklearn-color-unfitted-level-2);\n",
       "}\n",
       "\n",
       "#sk-container-id-195 div.sk-estimator.fitted:hover {\n",
       "  /* fitted */\n",
       "  background-color: var(--sklearn-color-fitted-level-2);\n",
       "}\n",
       "\n",
       "/* Specification for estimator info (e.g. \"i\" and \"?\") */\n",
       "\n",
       "/* Common style for \"i\" and \"?\" */\n",
       "\n",
       ".sk-estimator-doc-link,\n",
       "a:link.sk-estimator-doc-link,\n",
       "a:visited.sk-estimator-doc-link {\n",
       "  float: right;\n",
       "  font-size: smaller;\n",
       "  line-height: 1em;\n",
       "  font-family: monospace;\n",
       "  background-color: var(--sklearn-color-background);\n",
       "  border-radius: 1em;\n",
       "  height: 1em;\n",
       "  width: 1em;\n",
       "  text-decoration: none !important;\n",
       "  margin-left: 1ex;\n",
       "  /* unfitted */\n",
       "  border: var(--sklearn-color-unfitted-level-1) 1pt solid;\n",
       "  color: var(--sklearn-color-unfitted-level-1);\n",
       "}\n",
       "\n",
       ".sk-estimator-doc-link.fitted,\n",
       "a:link.sk-estimator-doc-link.fitted,\n",
       "a:visited.sk-estimator-doc-link.fitted {\n",
       "  /* fitted */\n",
       "  border: var(--sklearn-color-fitted-level-1) 1pt solid;\n",
       "  color: var(--sklearn-color-fitted-level-1);\n",
       "}\n",
       "\n",
       "/* On hover */\n",
       "div.sk-estimator:hover .sk-estimator-doc-link:hover,\n",
       ".sk-estimator-doc-link:hover,\n",
       "div.sk-label-container:hover .sk-estimator-doc-link:hover,\n",
       ".sk-estimator-doc-link:hover {\n",
       "  /* unfitted */\n",
       "  background-color: var(--sklearn-color-unfitted-level-3);\n",
       "  color: var(--sklearn-color-background);\n",
       "  text-decoration: none;\n",
       "}\n",
       "\n",
       "div.sk-estimator.fitted:hover .sk-estimator-doc-link.fitted:hover,\n",
       ".sk-estimator-doc-link.fitted:hover,\n",
       "div.sk-label-container:hover .sk-estimator-doc-link.fitted:hover,\n",
       ".sk-estimator-doc-link.fitted:hover {\n",
       "  /* fitted */\n",
       "  background-color: var(--sklearn-color-fitted-level-3);\n",
       "  color: var(--sklearn-color-background);\n",
       "  text-decoration: none;\n",
       "}\n",
       "\n",
       "/* Span, style for the box shown on hovering the info icon */\n",
       ".sk-estimator-doc-link span {\n",
       "  display: none;\n",
       "  z-index: 9999;\n",
       "  position: relative;\n",
       "  font-weight: normal;\n",
       "  right: .2ex;\n",
       "  padding: .5ex;\n",
       "  margin: .5ex;\n",
       "  width: min-content;\n",
       "  min-width: 20ex;\n",
       "  max-width: 50ex;\n",
       "  color: var(--sklearn-color-text);\n",
       "  box-shadow: 2pt 2pt 4pt #999;\n",
       "  /* unfitted */\n",
       "  background: var(--sklearn-color-unfitted-level-0);\n",
       "  border: .5pt solid var(--sklearn-color-unfitted-level-3);\n",
       "}\n",
       "\n",
       ".sk-estimator-doc-link.fitted span {\n",
       "  /* fitted */\n",
       "  background: var(--sklearn-color-fitted-level-0);\n",
       "  border: var(--sklearn-color-fitted-level-3);\n",
       "}\n",
       "\n",
       ".sk-estimator-doc-link:hover span {\n",
       "  display: block;\n",
       "}\n",
       "\n",
       "/* \"?\"-specific style due to the `<a>` HTML tag */\n",
       "\n",
       "#sk-container-id-195 a.estimator_doc_link {\n",
       "  float: right;\n",
       "  font-size: 1rem;\n",
       "  line-height: 1em;\n",
       "  font-family: monospace;\n",
       "  background-color: var(--sklearn-color-background);\n",
       "  border-radius: 1rem;\n",
       "  height: 1rem;\n",
       "  width: 1rem;\n",
       "  text-decoration: none;\n",
       "  /* unfitted */\n",
       "  color: var(--sklearn-color-unfitted-level-1);\n",
       "  border: var(--sklearn-color-unfitted-level-1) 1pt solid;\n",
       "}\n",
       "\n",
       "#sk-container-id-195 a.estimator_doc_link.fitted {\n",
       "  /* fitted */\n",
       "  border: var(--sklearn-color-fitted-level-1) 1pt solid;\n",
       "  color: var(--sklearn-color-fitted-level-1);\n",
       "}\n",
       "\n",
       "/* On hover */\n",
       "#sk-container-id-195 a.estimator_doc_link:hover {\n",
       "  /* unfitted */\n",
       "  background-color: var(--sklearn-color-unfitted-level-3);\n",
       "  color: var(--sklearn-color-background);\n",
       "  text-decoration: none;\n",
       "}\n",
       "\n",
       "#sk-container-id-195 a.estimator_doc_link.fitted:hover {\n",
       "  /* fitted */\n",
       "  background-color: var(--sklearn-color-fitted-level-3);\n",
       "}\n",
       "</style><div id=\"sk-container-id-195\" class=\"sk-top-container\"><div class=\"sk-text-repr-fallback\"><pre>MLPRegressor(hidden_layer_sizes=(230, 180, 120, 80, 50, 80, 120, 180, 230))</pre><b>In a Jupyter environment, please rerun this cell to show the HTML representation or trust the notebook. <br />On GitHub, the HTML representation is unable to render, please try loading this page with nbviewer.org.</b></div><div class=\"sk-container\" hidden><div class=\"sk-item\"><div class=\"sk-estimator fitted sk-toggleable\"><input class=\"sk-toggleable__control sk-hidden--visually\" id=\"sk-estimator-id-195\" type=\"checkbox\" checked><label for=\"sk-estimator-id-195\" class=\"sk-toggleable__label fitted sk-toggleable__label-arrow fitted\">&nbsp;&nbsp;MLPRegressor<a class=\"sk-estimator-doc-link fitted\" rel=\"noreferrer\" target=\"_blank\" href=\"https://scikit-learn.org/1.4/modules/generated/sklearn.neural_network.MLPRegressor.html\">?<span>Documentation for MLPRegressor</span></a><span class=\"sk-estimator-doc-link fitted\">i<span>Fitted</span></span></label><div class=\"sk-toggleable__content fitted\"><pre>MLPRegressor(hidden_layer_sizes=(230, 180, 120, 80, 50, 80, 120, 180, 230))</pre></div> </div></div></div></div>"
      ],
      "text/plain": [
       "MLPRegressor(hidden_layer_sizes=(230, 180, 120, 80, 50, 80, 120, 180, 230))"
      ]
     },
     "execution_count": 749,
     "metadata": {},
     "output_type": "execute_result"
    }
   ],
   "source": [
    "neural_network.fit(vectors.reshape(-1, 270), vectors.reshape(-1, 270))"
   ]
  },
  {
   "cell_type": "code",
   "execution_count": 750,
   "id": "c7fb8009-aaeb-4c70-8de0-976598412f7e",
   "metadata": {},
   "outputs": [
    {
     "name": "stdout",
     "output_type": "stream",
     "text": [
      "vector_to_word(vector) = AMAZETH       vector_to_word(predicted_vector) = ATADETS\n",
      "vector_to_word(vector) = PUR           vector_to_word(predicted_vector) = PUR\n",
      "vector_to_word(vector) = SCHOOLING     vector_to_word(predicted_vector) = STPOOLING\n",
      "vector_to_word(vector) = INFLUENCE     vector_to_word(predicted_vector) = INULLENSE\n",
      "vector_to_word(vector) = DIETED        vector_to_word(predicted_vector) = DIETED\n",
      "vector_to_word(vector) = PESEECH       vector_to_word(predicted_vector) = PESEETD\n",
      "vector_to_word(vector) = SOD           vector_to_word(predicted_vector) = SO\n",
      "vector_to_word(vector) = GRASS         vector_to_word(predicted_vector) = GRASS\n",
      "vector_to_word(vector) = CASH          vector_to_word(predicted_vector) = CASH\n",
      "vector_to_word(vector) = IDLY          vector_to_word(predicted_vector) = ITLU\n",
      "vector_to_word(vector) = REVISIT       vector_to_word(predicted_vector) = REVISIT\n",
      "vector_to_word(vector) = HUMBLER       vector_to_word(predicted_vector) = HUMPLER\n",
      "vector_to_word(vector) = PROCEED       vector_to_word(predicted_vector) = PROCEED\n",
      "vector_to_word(vector) = SHARPEST      vector_to_word(predicted_vector) = SHARLEST\n",
      "vector_to_word(vector) = MARKMAN       vector_to_word(predicted_vector) = MARUEAN\n",
      "vector_to_word(vector) = BROKERS       vector_to_word(predicted_vector) = BROWERS\n",
      "vector_to_word(vector) = WORDS         vector_to_word(predicted_vector) = WORDS\n",
      "vector_to_word(vector) = CHETAS        vector_to_word(predicted_vector) = CHETAS\n",
      "vector_to_word(vector) = GI            vector_to_word(predicted_vector) = RI\n",
      "vector_to_word(vector) = JAVELINS      vector_to_word(predicted_vector) = LAVELINS\n",
      "vector_to_word(vector) = ALTERNATE     vector_to_word(predicted_vector) = ALTERNATE\n",
      "vector_to_word(vector) = BINDING       vector_to_word(predicted_vector) = BINDING\n",
      "vector_to_word(vector) = KENN          vector_to_word(predicted_vector) = BENN\n",
      "vector_to_word(vector) = ELEANOR       vector_to_word(predicted_vector) = ELEANOR\n",
      "vector_to_word(vector) = MORTGAGED     vector_to_word(predicted_vector) = MORTLARED\n",
      "vector_to_word(vector) = PRECEPTIAL    vector_to_word(predicted_vector) = PRECEATIO\n",
      "vector_to_word(vector) = RADISH        vector_to_word(predicted_vector) = RADISY\n",
      "vector_to_word(vector) = TAPPED        vector_to_word(predicted_vector) = TAPPED\n",
      "vector_to_word(vector) = PRESENCES     vector_to_word(predicted_vector) = PRESENDES\n",
      "vector_to_word(vector) = GAZING        vector_to_word(predicted_vector) = BAUING\n"
     ]
    }
   ],
   "source": [
    "for vector in vectors[:30]:\n",
    "    predicted_vector = neural_network.predict(vector.reshape(1, 270)).reshape(10, 27)\n",
    "    print(f\"{vector_to_word(vector) = :13.13s} {vector_to_word(predicted_vector) = :s}\")"
   ]
  },
  {
   "cell_type": "code",
   "execution_count": null,
   "id": "f698fb86-4e1f-4a67-a701-71d7ee9c0783",
   "metadata": {},
   "outputs": [],
   "source": []
  },
  {
   "cell_type": "code",
   "execution_count": null,
   "id": "9e7e6c66-e2d7-42e0-8d50-1f53d65a089e",
   "metadata": {},
   "outputs": [],
   "source": []
  },
  {
   "cell_type": "code",
   "execution_count": null,
   "id": "bb292e06-5517-4bb0-b92f-6b12e2c28996",
   "metadata": {},
   "outputs": [],
   "source": []
  },
  {
   "cell_type": "code",
   "execution_count": 751,
   "id": "37bf3985-ab91-4e58-a43d-4743378d4334",
   "metadata": {},
   "outputs": [],
   "source": [
    "first_half_network = sklearn.neural_network.MLPRegressor(hidden_layer_sizes=(230, 180, 120, 80))\n",
    "first_half_network.__sklearn_is_fitted__ = lambda: True\n",
    "first_half_network.n_layers_ = 6\n",
    "first_half_network.coefs_ = neural_network.coefs_[:5]\n",
    "first_half_network.intercepts_ = neural_network.intercepts_[:5]\n",
    "first_half_network.out_activation_ = \"relu\""
   ]
  },
  {
   "cell_type": "code",
   "execution_count": 752,
   "id": "91d76587-341b-4cf6-8219-54c2b7a31bf2",
   "metadata": {},
   "outputs": [],
   "source": [
    "second_half_network = sklearn.neural_network.MLPRegressor(hidden_layer_sizes=(80, 120, 180, 230))\n",
    "second_half_network.__sklearn_is_fitted__ = lambda: True\n",
    "second_half_network.n_layers_ = 6\n",
    "second_half_network.coefs_ = neural_network.coefs_[5:]\n",
    "second_half_network.intercepts_ = neural_network.intercepts_[5:]\n",
    "second_half_network.out_activation_ = \"relu\""
   ]
  },
  {
   "cell_type": "code",
   "execution_count": 753,
   "id": "e1278302-c79d-4015-b644-c05f386010a2",
   "metadata": {},
   "outputs": [
    {
     "data": {
      "text/plain": [
       "array([[1.34543555, 0.64810183, 2.49781079, 0.        , 0.        ,\n",
       "        0.57868294, 0.        , 0.        , 0.        , 2.24002717,\n",
       "        0.        , 1.1172438 , 2.95279067, 0.        , 0.        ,\n",
       "        0.        , 1.03808674, 4.57588084, 2.93460316, 0.5413308 ,\n",
       "        1.10784638, 2.10569659, 0.        , 2.74750654, 0.        ,\n",
       "        2.58979996, 2.17716639, 0.        , 0.68081638, 1.99053661,\n",
       "        2.0229948 , 0.58634946, 0.        , 1.72725972, 1.54810959,\n",
       "        1.00517415, 0.83060548, 0.        , 1.73232823, 1.2975571 ,\n",
       "        1.99654483, 0.        , 1.50701804, 0.        , 3.04116681,\n",
       "        0.97869101, 0.67561146, 1.50237863, 0.        , 1.07072389]])"
      ]
     },
     "execution_count": 753,
     "metadata": {},
     "output_type": "execute_result"
    }
   ],
   "source": [
    "encoded = first_half_network.predict(vectors[7].reshape(1, 270))\n",
    "encoded"
   ]
  },
  {
   "cell_type": "code",
   "execution_count": 754,
   "id": "d19abbe3-07b3-4535-a011-81b468c59d7e",
   "metadata": {},
   "outputs": [
    {
     "data": {
      "text/plain": [
       "'GRASS'"
      ]
     },
     "execution_count": 754,
     "metadata": {},
     "output_type": "execute_result"
    }
   ],
   "source": [
    "decoded = second_half_network.predict(encoded).reshape(10, 27)\n",
    "vector_to_word(decoded)"
   ]
  },
  {
   "cell_type": "code",
   "execution_count": null,
   "id": "ebc660d2-c966-4660-9811-11a6d50964ce",
   "metadata": {},
   "outputs": [],
   "source": []
  },
  {
   "cell_type": "code",
   "execution_count": null,
   "id": "b8230ae4-0f72-4f12-943d-dec4b45d7bbc",
   "metadata": {},
   "outputs": [],
   "source": []
  },
  {
   "cell_type": "code",
   "execution_count": null,
   "id": "8d7b7076-a1f2-4c64-9144-169a27835e31",
   "metadata": {},
   "outputs": [],
   "source": []
  },
  {
   "cell_type": "code",
   "execution_count": 755,
   "id": "29e60f36-ee89-4730-82a2-7647cf62441f",
   "metadata": {},
   "outputs": [],
   "source": [
    "distribution = first_half_network.predict(vectors.reshape(-1, 270))"
   ]
  },
  {
   "cell_type": "code",
   "execution_count": 756,
   "id": "1bfb4b01-8803-4c1c-a193-91ebac2f54f5",
   "metadata": {},
   "outputs": [],
   "source": [
    "center = np.mean(distribution, axis=0)"
   ]
  },
  {
   "cell_type": "code",
   "execution_count": 757,
   "id": "7932ee81-7234-4e24-9a01-6e9eb0fcfbbd",
   "metadata": {},
   "outputs": [],
   "source": [
    "width = np.std(distribution, axis=0)"
   ]
  },
  {
   "cell_type": "code",
   "execution_count": 788,
   "id": "acb95c86-c34e-493c-9a9b-fdfd05f426a5",
   "metadata": {},
   "outputs": [
    {
     "data": {
      "text/plain": [
       "'TECSNLT'"
      ]
     },
     "execution_count": 788,
     "metadata": {},
     "output_type": "execute_result"
    }
   ],
   "source": [
    "fake_encoded = np.random.normal(center, width, (1, 50,))\n",
    "fake_decoded = second_half_network.predict(fake_encoded).reshape(10, 27)\n",
    "vector_to_word(fake_decoded)"
   ]
  },
  {
   "cell_type": "code",
   "execution_count": null,
   "id": "2fb5f401-2a68-46c0-8e43-f2e4d4afc685",
   "metadata": {},
   "outputs": [],
   "source": []
  },
  {
   "cell_type": "code",
   "execution_count": null,
   "id": "86ec90a4-e7fa-4d5f-8082-dc43a61669ab",
   "metadata": {},
   "outputs": [],
   "source": []
  },
  {
   "cell_type": "code",
   "execution_count": null,
   "id": "dc6e41cb-d2f2-4bdc-912b-45cb102e68df",
   "metadata": {},
   "outputs": [],
   "source": []
  },
  {
   "cell_type": "code",
   "execution_count": null,
   "id": "3b38754b-269b-40a6-8c83-d990ed218fea",
   "metadata": {},
   "outputs": [],
   "source": []
  },
  {
   "cell_type": "code",
   "execution_count": null,
   "id": "461c1fce-71c1-467b-a6a8-fa1ee97ae851",
   "metadata": {},
   "outputs": [],
   "source": []
  },
  {
   "cell_type": "code",
   "execution_count": null,
   "id": "2516dd5a-7675-4810-92eb-c94165440d27",
   "metadata": {},
   "outputs": [],
   "source": []
  }
 ],
 "metadata": {
  "kernelspec": {
   "display_name": "Python 3 (ipykernel)",
   "language": "python",
   "name": "python3"
  },
  "language_info": {
   "codemirror_mode": {
    "name": "ipython",
    "version": 3
   },
   "file_extension": ".py",
   "mimetype": "text/x-python",
   "name": "python",
   "nbconvert_exporter": "python",
   "pygments_lexer": "ipython3",
   "version": "3.10.14"
  }
 },
 "nbformat": 4,
 "nbformat_minor": 5
}
