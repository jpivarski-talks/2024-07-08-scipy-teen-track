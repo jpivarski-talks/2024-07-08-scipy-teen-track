{
 "cells": [
  {
   "cell_type": "markdown",
   "id": "96c00b45-c571-4438-be9b-60f80e8be054",
   "metadata": {},
   "source": [
    "# Fie Upon Thee, Autocorrect!"
   ]
  },
  {
   "cell_type": "markdown",
   "id": "d54dee98-c213-4197-b2eb-8184fa70d7ea",
   "metadata": {},
   "source": [
    "<img src=\"img/shakespeare.jpg\" width=\"200\">"
   ]
  },
  {
   "cell_type": "markdown",
   "id": "eadd8904-0e5d-41bc-98b8-6d56c14eb7db",
   "metadata": {},
   "source": [
    "<br><br><br>"
   ]
  },
  {
   "cell_type": "markdown",
   "id": "8becce69-ae8e-466a-881a-e779deb34f59",
   "metadata": {},
   "source": [
    "## Recap of yesterday"
   ]
  },
  {
   "cell_type": "markdown",
   "id": "633fc46a-6ac8-465f-a977-1af24a866f58",
   "metadata": {},
   "source": []
  },
  {
   "cell_type": "markdown",
   "id": "a096ddee-ee95-4e34-8241-09d6912f701c",
   "metadata": {},
   "source": [
    "<br><br><br>"
   ]
  },
  {
   "cell_type": "markdown",
   "id": "046cc6b9-7f8f-4243-b018-5c6a34e81957",
   "metadata": {},
   "source": [
    "## Dataset: the complete works of Shakespeare"
   ]
  },
  {
   "cell_type": "code",
   "execution_count": 1,
   "id": "5d5d2d40-cce3-4b9c-abd6-654fe9648f31",
   "metadata": {},
   "outputs": [],
   "source": [
    "import numpy as np"
   ]
  },
  {
   "cell_type": "code",
   "execution_count": 2,
   "id": "1e692285-26fe-4e53-9cbd-95ea094627c9",
   "metadata": {},
   "outputs": [],
   "source": [
    "with open(\"data/shakespeare.txt\") as file:\n",
    "    corpus = file.read()"
   ]
  },
  {
   "cell_type": "code",
   "execution_count": 3,
   "id": "f2d2cd8d-2291-4550-b468-56bc01368edf",
   "metadata": {},
   "outputs": [
    {
     "data": {
      "text/plain": [
       "5367504"
      ]
     },
     "execution_count": 3,
     "metadata": {},
     "output_type": "execute_result"
    }
   ],
   "source": [
    "len(corpus)"
   ]
  },
  {
   "cell_type": "code",
   "execution_count": 4,
   "id": "41439cb7-f5f1-466c-9006-966543672fd1",
   "metadata": {},
   "outputs": [
    {
     "name": "stdout",
     "output_type": "stream",
     "text": [
      "ook up that fire,\n",
      "Which many legions of true hearts had warmed,\n",
      "And so the general of hot desire,\n",
      "Was sleeping by a virgin hand disarmed.\n",
      "This brand she quenched in a cool well by,\n",
      "Which from Love’s fire took heat perpetual,\n",
      "Growing a bath and healthful remedy,\n",
      "For men diseased; but I, my mistress’ thrall,\n",
      "  Came there for cure and this by that I prove,\n",
      "  Love’s fire heats water, water cools not love.\n",
      "\n",
      "THE END\n",
      "\n",
      "ALL’S WELL THAT ENDS WELL\n",
      "\n",
      "Contents\n",
      "\n",
      "ACT I\n",
      "Scene I. Rossillon. A room in the Countess’s palace.\n",
      "Scene II. Paris. A room in the King’s palace.\n",
      "Scene III. Rossillon. A Room in the Palace.\n",
      "\n",
      "ACT II\n",
      "Scene I. Paris. A room in the King’s palace.\n",
      "Scene II. Rossillon. A room in the Countess’s palace.\n",
      "Scene III. Paris. The King’s palace.\n",
      "Scene IV. Paris. The King’s palace.\n",
      "Scene V. Another room in the same.\n",
      "\n",
      "ACT III\n",
      "Scene I. Florence. A room in the Duke’s palace.\n",
      "Scene II. Rossillon. A room in the Countess’s palace.\n",
      "Scene III. Florence. Before the Duke’s palace.\n",
      "Scene IV. Rossillon. A roo\n"
     ]
    }
   ],
   "source": [
    "print(corpus[100000:101000])"
   ]
  },
  {
   "cell_type": "code",
   "execution_count": 5,
   "id": "1bf66152-7640-416e-a439-cdcb68dc4bd8",
   "metadata": {},
   "outputs": [
    {
     "data": {
      "text/plain": [
       "array([ 10,  32,  33,  35,  36,  37,  38,  40,  41,  42,  44,  45,  46,\n",
       "        47,  48,  49,  50,  51,  52,  53,  54,  55,  56,  57,  58,  59,\n",
       "        63,  65,  66,  67,  68,  69,  70,  71,  72,  73,  74,  75,  76,\n",
       "        77,  78,  79,  80,  81,  82,  83,  84,  85,  86,  87,  88,  89,\n",
       "        90,  91,  93,  97,  98,  99, 100, 101, 102, 103, 104, 105, 106,\n",
       "       107, 108, 109, 110, 111, 112, 113, 114, 115, 116, 117, 118, 119,\n",
       "       120, 121, 122, 128, 132, 134, 135, 137, 147, 148, 152, 153, 156,\n",
       "       157, 160, 162, 166, 167, 168, 169, 170, 171, 174, 187, 191, 195,\n",
       "       197, 226, 239], dtype=uint8)"
      ]
     },
     "execution_count": 5,
     "metadata": {},
     "output_type": "execute_result"
    }
   ],
   "source": [
    "unique_characters = np.unique(np.frombuffer(corpus.encode(), np.uint8).reshape(-1, 1))\n",
    "unique_characters"
   ]
  },
  {
   "cell_type": "code",
   "execution_count": 6,
   "id": "7c163efc-92c8-42ae-a49b-3d32165ce02e",
   "metadata": {},
   "outputs": [
    {
     "data": {
      "text/plain": [
       "array([b'\\n', b' ', b'!', b'#', b'$', b'%', b'&', b'(', b')', b'*', b',',\n",
       "       b'-', b'.', b'/', b'0', b'1', b'2', b'3', b'4', b'5', b'6', b'7',\n",
       "       b'8', b'9', b':', b';', b'?', b'A', b'B', b'C', b'D', b'E', b'F',\n",
       "       b'G', b'H', b'I', b'J', b'K', b'L', b'M', b'N', b'O', b'P', b'Q',\n",
       "       b'R', b'S', b'T', b'U', b'V', b'W', b'X', b'Y', b'Z', b'[', b']',\n",
       "       b'a', b'b', b'c', b'd', b'e', b'f', b'g', b'h', b'i', b'j', b'k',\n",
       "       b'l', b'm', b'n', b'o', b'p', b'q', b'r', b's', b't', b'u', b'v',\n",
       "       b'w', b'x', b'y', b'z', b'\\x80', b'\\x84', b'\\x86', b'\\x87',\n",
       "       b'\\x89', b'\\x93', b'\\x94', b'\\x98', b'\\x99', b'\\x9c', b'\\x9d',\n",
       "       b'\\xa0', b'\\xa2', b'\\xa6', b'\\xa7', b'\\xa8', b'\\xa9', b'\\xaa',\n",
       "       b'\\xab', b'\\xae', b'\\xbb', b'\\xbf', b'\\xc3', b'\\xc5', b'\\xe2',\n",
       "       b'\\xef'], dtype='|S1')"
      ]
     },
     "execution_count": 6,
     "metadata": {},
     "output_type": "execute_result"
    }
   ],
   "source": [
    "unique_characters.view(\"S1\")"
   ]
  },
  {
   "cell_type": "code",
   "execution_count": 7,
   "id": "3afc56a2-6701-48da-b7f5-a216e4fdf0c7",
   "metadata": {},
   "outputs": [
    {
     "data": {
      "text/plain": [
       "81"
      ]
     },
     "execution_count": 7,
     "metadata": {},
     "output_type": "execute_result"
    }
   ],
   "source": [
    "np.count_nonzero(unique_characters <= ord(\"z\"))"
   ]
  },
  {
   "cell_type": "markdown",
   "id": "21763a82-c049-4eea-8434-d28d75433968",
   "metadata": {},
   "source": [
    "<br><br><br>"
   ]
  },
  {
   "cell_type": "markdown",
   "id": "620af14d-ade9-4a3b-9bee-b0fa067aea91",
   "metadata": {},
   "source": [
    "## In progress..."
   ]
  },
  {
   "cell_type": "code",
   "execution_count": 8,
   "id": "a2a23dea-bb0a-453c-997d-d3adb95767c4",
   "metadata": {},
   "outputs": [],
   "source": [
    "import sklearn.neural_network"
   ]
  },
  {
   "cell_type": "code",
   "execution_count": 9,
   "id": "a1608348-d559-469b-89a0-6032fdce8a54",
   "metadata": {},
   "outputs": [
    {
     "data": {
      "text/plain": [
       "array([ 84, 104, 101, ..., 115,  46,  10], dtype=uint8)"
      ]
     },
     "execution_count": 9,
     "metadata": {},
     "output_type": "execute_result"
    }
   ],
   "source": [
    "array_of_bytes = np.frombuffer(corpus.encode(), np.uint8)\n",
    "array_of_bytes = array_of_bytes[array_of_bytes <= ord(\"z\")]\n",
    "array_of_bytes"
   ]
  },
  {
   "cell_type": "code",
   "execution_count": 10,
   "id": "de22adfe-5e86-4365-accc-75708737cf93",
   "metadata": {},
   "outputs": [
    {
     "data": {
      "text/plain": [
       "array([ 10,  32,  33,  35,  36,  37,  38,  40,  41,  42,  44,  45,  46,\n",
       "        47,  48,  49,  50,  51,  52,  53,  54,  55,  56,  57,  58,  59,\n",
       "        63,  65,  66,  67,  68,  69,  70,  71,  72,  73,  74,  75,  76,\n",
       "        77,  78,  79,  80,  81,  82,  83,  84,  85,  86,  87,  88,  89,\n",
       "        90,  91,  93,  97,  98,  99, 100, 101, 102, 103, 104, 105, 106,\n",
       "       107, 108, 109, 110, 111, 112, 113, 114, 115, 116, 117, 118, 119,\n",
       "       120, 121, 122], dtype=uint8)"
      ]
     },
     "execution_count": 10,
     "metadata": {},
     "output_type": "execute_result"
    }
   ],
   "source": [
    "index_position_to_byte = np.unique(array_of_bytes)\n",
    "index_position_to_byte"
   ]
  },
  {
   "cell_type": "code",
   "execution_count": 11,
   "id": "5301532a-e1ff-4b09-b01b-b88fe5ce678d",
   "metadata": {},
   "outputs": [
    {
     "data": {
      "text/plain": [
       "array([ 0,  0,  0,  0,  0,  0,  0,  0,  0,  0,  0,  0,  0,  0,  0,  0,  0,\n",
       "        0,  0,  0,  0,  0,  0,  0,  0,  0,  0,  0,  0,  0,  0,  0,  1,  2,\n",
       "        0,  3,  4,  5,  6,  0,  7,  8,  9,  0, 10, 11, 12, 13, 14, 15, 16,\n",
       "       17, 18, 19, 20, 21, 22, 23, 24, 25,  0,  0,  0, 26,  0, 27, 28, 29,\n",
       "       30, 31, 32, 33, 34, 35, 36, 37, 38, 39, 40, 41, 42, 43, 44, 45, 46,\n",
       "       47, 48, 49, 50, 51, 52, 53,  0, 54,  0,  0,  0, 55, 56, 57, 58, 59,\n",
       "       60, 61, 62, 63, 64, 65, 66, 67, 68, 69, 70, 71, 72, 73, 74, 75, 76,\n",
       "       77, 78, 79, 80,  0,  0,  0,  0,  0,  0,  0,  0,  0,  0,  0,  0,  0,\n",
       "        0,  0,  0,  0,  0,  0,  0,  0,  0,  0,  0,  0,  0,  0,  0,  0,  0,\n",
       "        0,  0,  0,  0,  0,  0,  0,  0,  0,  0,  0,  0,  0,  0,  0,  0,  0,\n",
       "        0,  0,  0,  0,  0,  0,  0,  0,  0,  0,  0,  0,  0,  0,  0,  0,  0,\n",
       "        0,  0,  0,  0,  0,  0,  0,  0,  0,  0,  0,  0,  0,  0,  0,  0,  0,\n",
       "        0,  0,  0,  0,  0,  0,  0,  0,  0,  0,  0,  0,  0,  0,  0,  0,  0,\n",
       "        0,  0,  0,  0,  0,  0,  0,  0,  0,  0,  0,  0,  0,  0,  0,  0,  0,\n",
       "        0,  0,  0,  0,  0,  0,  0,  0,  0,  0,  0,  0,  0,  0,  0,  0,  0],\n",
       "      dtype=int32)"
      ]
     },
     "execution_count": 11,
     "metadata": {},
     "output_type": "execute_result"
    }
   ],
   "source": [
    "byte_to_index_position = np.zeros(255, np.int32)\n",
    "byte_to_index_position[index_position_to_byte] = np.arange(81)\n",
    "byte_to_index_position"
   ]
  },
  {
   "cell_type": "code",
   "execution_count": 12,
   "id": "05d1378a-1f36-4f91-9435-630763670aee",
   "metadata": {},
   "outputs": [],
   "source": [
    "def random_segment(array_of_bytes):\n",
    "    start_index = np.random.randint(0, len(array_of_bytes) - 1000)\n",
    "    stop_index = start_index + 1000\n",
    "    return array_of_bytes[start_index:stop_index]"
   ]
  },
  {
   "cell_type": "code",
   "execution_count": 13,
   "id": "28ee9e84-6e82-42f9-ab51-bb3d3c3b1fa5",
   "metadata": {},
   "outputs": [],
   "source": [
    "def to_vectors(segment_of_bytes):\n",
    "    segment_of_bytes = segment_of_bytes\n",
    "    index_positions = byte_to_index_position[segment_of_bytes]\n",
    "    \n",
    "    increasing_integers = np.arange(1000)\n",
    "    \n",
    "    one_hot = np.zeros((1000, 81))\n",
    "    one_hot[increasing_integers, index_positions] = 1\n",
    "    return one_hot"
   ]
  },
  {
   "cell_type": "code",
   "execution_count": 14,
   "id": "3b0ef900-033d-4436-9ee7-e6bda023c491",
   "metadata": {},
   "outputs": [
    {
     "data": {
      "text/plain": [
       "array([[0., 0., 0., ..., 0., 0., 0.],\n",
       "       [0., 1., 0., ..., 0., 0., 0.],\n",
       "       [0., 0., 0., ..., 0., 0., 0.],\n",
       "       ...,\n",
       "       [0., 0., 0., ..., 0., 0., 0.],\n",
       "       [0., 1., 0., ..., 0., 0., 0.],\n",
       "       [0., 0., 0., ..., 0., 0., 0.]])"
      ]
     },
     "execution_count": 14,
     "metadata": {},
     "output_type": "execute_result"
    }
   ],
   "source": [
    "to_vectors(random_segment(array_of_bytes))"
   ]
  },
  {
   "cell_type": "code",
   "execution_count": 18,
   "id": "48d40fd1-df46-427e-b5cc-d1b1264ec01d",
   "metadata": {},
   "outputs": [],
   "source": [
    "def from_vectors(vectors):\n",
    "    return index_position_to_byte[np.argmax(vectors, axis=1)].tobytes().decode()"
   ]
  },
  {
   "cell_type": "code",
   "execution_count": 19,
   "id": "65cb1bcb-393b-4c99-99f9-19095c8c1040",
   "metadata": {},
   "outputs": [],
   "source": [
    "neural_network = sklearn.neural_network.MLPRegressor(hidden_layer_sizes=(1000, 500, 100, 10, 10, 100, 500, 1000))"
   ]
  },
  {
   "cell_type": "code",
   "execution_count": 635,
   "id": "0c52ddd5-c3d7-4a8d-a187-3879ef2b5e68",
   "metadata": {},
   "outputs": [
    {
     "name": "stdout",
     "output_type": "stream",
     "text": [
      "                                                   |                                                   \n",
      "To the last syllable of recorded time;             | To the last syllable of recorded timeB            \n",
      "And all our yesterdays have lighted fools          | And all our yesterdays have lighted fools         \n",
      "The way to dusty death. Out, out, brief candle!    | The way to dusty death. Out, out, brief candleD   \n",
      "Lifes but a walking shadow; a poor player,         | Lifes but a walking shadowB a poor player,        \n",
      "That struts and frets his hour upon the stage,     | That struts and frets his hour upon the stage,    \n",
      "And then is heard no more: it is a tale            | And then is heard no moreW it is a tale           \n",
      "Told by an idiot, full of sound and fury,          | Told by an idiot, full of sound and fury,         \n",
      "Signifying nothing.                                | Signifying nothing.                               \n",
      "                                                   |                                                   \n",
      " Enter a Messenger.                                |  Enter a Messenger.                               \n",
      "                                                   |                                                   \n",
      "Thou comst to use thy tongue; thy story quickly.   | Thou comst to use thy tongueB thy story Duickly.  \n",
      "                                                   |                                                   \n",
      "MESSENGER.                                         | MESSENDER.                                        \n",
      "Gracious my lord,                                  | Dracious my lord,                                 \n",
      "I should report that which I say I saw,            | I should report that which I say I saw,           \n",
      "But know not how to dot.                           | But know not how to dot.                          \n",
      "                                                   |                                                   \n",
      "MACBETH.                                           | MACBETH.                                          \n",
      "Well, say, sir.                                    | Well, say, sir.                                   \n",
      "                                                   |                                                   \n",
      "MESSENGER.                                         | MESSENDER.                                        \n",
      "As I did stand my watch upon the hill,             | As I did stand my watch upon the hill,            \n",
      "I lookd toward Birnam, and anon, methought,        | I lookd toward Birnam, and anon, methought,       \n",
      "The wood began to move.                            | The wood began to move.                           \n",
      "                                                   |                                                   \n",
      "MACBETH.                                           | MACBETH.                                          \n",
      "Liar, and slave!                                   | Liar, and slaveD                                  \n",
      "                                                   |                                                   \n",
      "MESSENGER.                                         | MESSENDER.                                        \n",
      "Let me endure your wrath, ift be not so.           | Let me endure your wrath, ift be not so.          \n",
      "Within this three mile may you see it coming;      | Within this three mile may you see it comingB     \n",
      "I say, a moving grove.                             | I say, a moving grove.                            \n",
      "                                                   |                                                   \n",
      "MACBETH.                                           | MACBETH.                                          \n",
      "If thou speakst false,                             | If thou speakst false,                            \n",
      "Upon the next tree shalt thou hang alive,          | Bpon the neRt tree shalt thou hang alive,         \n",
      "Till famine cling thee: if thy speech be sooth,    | Till famine cling theeW if thy speech be sooth,   \n",
      "I care not if thou dost for me as much.            | I care not if thou dost for me as much.           \n",
      "I pull in resolution; and begin                    | I pull in resolutionB and begin                   \n",
      "To doubt th equivocatio                            | To doubt th eDuivocatio                           \n"
     ]
    }
   ],
   "source": [
    "segment_of_bytes = random_segment(array_of_bytes)\n",
    "input_text = segment_of_bytes.tobytes().decode().split(\"\\n\")\n",
    "\n",
    "vectors = to_vectors(segment_of_bytes)\n",
    "neural_network.partial_fit(vectors, vectors)\n",
    "\n",
    "output_text = from_vectors(neural_network.predict(vectors)).split(\"\\n\")\n",
    "\n",
    "while len(output_text) < len(input_text):\n",
    "    output_text.append(\"\")\n",
    "for input_line, output_line in zip(input_text, output_text):\n",
    "    print(f\"{input_line:50.50s} | {output_line:50.50s}\")"
   ]
  },
  {
   "cell_type": "code",
   "execution_count": 652,
   "id": "f803c34e-634b-4869-a670-f4e49a7adf24",
   "metadata": {},
   "outputs": [],
   "source": [
    "first_half_network = sklearn.neural_network.MLPRegressor(hidden_layer_sizes=(1000, 500, 100, 10))\n",
    "first_half_network.__sklearn_is_fitted__ = lambda: True\n",
    "first_half_network.n_layers_ = 5\n",
    "first_half_network.coefs_ = neural_network.coefs_[:4]\n",
    "first_half_network.intercepts_ = neural_network.intercepts_[:4]\n",
    "first_half_network.out_activation_ = \"relu\""
   ]
  },
  {
   "cell_type": "code",
   "execution_count": 653,
   "id": "fe96e195-461c-44b8-934b-81723cae3109",
   "metadata": {},
   "outputs": [],
   "source": [
    "second_half_network = sklearn.neural_network.MLPRegressor(hidden_layer_sizes=(10, 100, 500, 1000))\n",
    "second_half_network.__sklearn_is_fitted__ = lambda: True\n",
    "second_half_network.n_layers_ = 6\n",
    "second_half_network.coefs_ = neural_network.coefs_[4:]\n",
    "second_half_network.intercepts_ = neural_network.intercepts_[4:]\n",
    "second_half_network.out_activation_ = \"identity\""
   ]
  },
  {
   "cell_type": "code",
   "execution_count": 657,
   "id": "e2d4006f-86fe-4e83-a95c-d47edd4e3601",
   "metadata": {},
   "outputs": [
    {
     "data": {
      "text/plain": [
       "(1000, 10)"
      ]
     },
     "execution_count": 657,
     "metadata": {},
     "output_type": "execute_result"
    }
   ],
   "source": [
    "encoded = first_half_network.predict(vectors)\n",
    "encoded.shape"
   ]
  },
  {
   "cell_type": "code",
   "execution_count": 658,
   "id": "61855e97-9db0-4f30-aa21-13e1922b8805",
   "metadata": {},
   "outputs": [
    {
     "name": "stdout",
     "output_type": "stream",
     "text": [
      "\n",
      "To the last syllable of recorded timeB\n",
      "And all our yesterdays have lighted fools\n",
      "The way to dusty death. Out, out, brief candleD\n",
      "Lifes but a walking shadowB a poor player,\n",
      "That struts and frets his hour upon the stage,\n",
      "And then is heard no moreW it is a tale\n",
      "Told by an idiot, full of sound and fury,\n",
      "Signifying nothing.\n",
      "\n",
      " Enter a Messenger.\n",
      "\n",
      "Thou comst to use thy tongueB thy story Duickly.\n",
      "\n",
      "MESSENDER.\n",
      "Dracious my lord,\n",
      "I should report that which I say I saw,\n",
      "But know not how to dot.\n",
      "\n",
      "MACBETH.\n",
      "Well, say, sir.\n",
      "\n",
      "MESSENDER.\n",
      "As I did stand my watch upon the hill,\n",
      "I lookd toward Birnam, and anon, methought,\n",
      "The wood began to move.\n",
      "\n",
      "MACBETH.\n",
      "Liar, and slaveD\n",
      "\n",
      "MESSENDER.\n",
      "Let me endure your wrath, ift be not so.\n",
      "Within this three mile may you see it comingB\n",
      "I say, a moving grove.\n",
      "\n",
      "MACBETH.\n",
      "If thou speakst false,\n",
      "Bpon the neRt tree shalt thou hang alive,\n",
      "Till famine cling theeW if thy speech be sooth,\n",
      "I care not if thou dost for me as much.\n",
      "I pull in resolutionB and begin\n",
      "To doubt th eDuivocatio\n"
     ]
    }
   ],
   "source": [
    "decoded = second_half_network.predict(encoded)\n",
    "\n",
    "print(from_vectors(decoded))"
   ]
  },
  {
   "cell_type": "code",
   "execution_count": null,
   "id": "3b38754b-269b-40a6-8c83-d990ed218fea",
   "metadata": {},
   "outputs": [],
   "source": []
  },
  {
   "cell_type": "code",
   "execution_count": null,
   "id": "461c1fce-71c1-467b-a6a8-fa1ee97ae851",
   "metadata": {},
   "outputs": [],
   "source": []
  },
  {
   "cell_type": "code",
   "execution_count": null,
   "id": "2516dd5a-7675-4810-92eb-c94165440d27",
   "metadata": {},
   "outputs": [],
   "source": []
  }
 ],
 "metadata": {
  "kernelspec": {
   "display_name": "Python 3 (ipykernel)",
   "language": "python",
   "name": "python3"
  },
  "language_info": {
   "codemirror_mode": {
    "name": "ipython",
    "version": 3
   },
   "file_extension": ".py",
   "mimetype": "text/x-python",
   "name": "python",
   "nbconvert_exporter": "python",
   "pygments_lexer": "ipython3",
   "version": "3.10.14"
  }
 },
 "nbformat": 4,
 "nbformat_minor": 5
}
