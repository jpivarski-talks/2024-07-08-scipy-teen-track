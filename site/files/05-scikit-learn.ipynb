{
 "cells": [
  {
   "cell_type": "markdown",
   "id": "68007af5-e1ae-450c-86f9-f1aafae18796",
   "metadata": {},
   "source": [
    "# Machine learning"
   ]
  },
  {
   "cell_type": "markdown",
   "id": "e849101e-fab1-48bf-84fe-a036f7ee8998",
   "metadata": {},
   "source": [
    "<br><br><br>"
   ]
  },
  {
   "cell_type": "code",
   "execution_count": 1,
   "id": "620c8865-6524-4339-8628-94e71a1e71a4",
   "metadata": {},
   "outputs": [],
   "source": [
    "import numpy as np\n",
    "import pandas as pd\n",
    "import matplotlib.pyplot as plt"
   ]
  },
  {
   "cell_type": "markdown",
   "id": "f29fb166-634f-4c01-a9b9-a4d5def09a36",
   "metadata": {},
   "source": [
    "## Solutions to the first project"
   ]
  },
  {
   "cell_type": "markdown",
   "id": "76c193fe-d5c6-4aa9-a67e-86d08ac3d860",
   "metadata": {},
   "source": [
    "<br><br><br>"
   ]
  },
  {
   "cell_type": "markdown",
   "id": "60949288-fdf7-456d-9ca5-4c3138cf452d",
   "metadata": {},
   "source": [
    "## Scikit-Learn"
   ]
  },
  {
   "cell_type": "markdown",
   "id": "92f7cf85-4b72-4f5e-b95a-ace22f8229c4",
   "metadata": {},
   "source": [
    "<img src=\"img/sklearn-logo.svg\" width=\"300\">"
   ]
  },
  {
   "cell_type": "code",
   "execution_count": 2,
   "id": "386c5612-111e-4492-b289-61ab17dbcd50",
   "metadata": {},
   "outputs": [],
   "source": [
    "import sklearn as sk"
   ]
  },
  {
   "cell_type": "markdown",
   "id": "2708ad26-6357-4cc2-b552-e8d1b4394241",
   "metadata": {},
   "source": [
    "<br><br><br>"
   ]
  },
  {
   "cell_type": "code",
   "execution_count": null,
   "id": "8cdfe825-1bad-4101-ba31-cc7a971b6fe8",
   "metadata": {},
   "outputs": [],
   "source": []
  }
 ],
 "metadata": {
  "kernelspec": {
   "display_name": "Python 3 (ipykernel)",
   "language": "python",
   "name": "python3"
  },
  "language_info": {
   "codemirror_mode": {
    "name": "ipython",
    "version": 3
   },
   "file_extension": ".py",
   "mimetype": "text/x-python",
   "name": "python",
   "nbconvert_exporter": "python",
   "pygments_lexer": "ipython3",
   "version": "3.10.14"
  }
 },
 "nbformat": 4,
 "nbformat_minor": 5
}
